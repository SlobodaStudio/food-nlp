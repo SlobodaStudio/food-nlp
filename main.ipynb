{
 "cells": [
  {
   "cell_type": "markdown",
   "metadata": {},
   "source": [
    "# Search for food patterns\n",
    "\n",
    "In this case, we have identified several search objects <br>\n",
    "1: food entities such as \"yoghurt, sandwich etc.\" <br>\n",
    "2: volume values such as \"200gr\" <br>\n",
    "3: volume entities such as \"cup\", \"glass\", \"tablespoon\" <br>\n",
    "4: quantitative entities such as \"3x\", \"two\", \"1 x\", \"five\" <br>\n",
    "\n",
    "## Features\n",
    "\n",
    "### Solved the problem of client's various writing: values of volume and quantitative variables\n",
    "Recognizes any recording version, such as '2x', '2 x', '2', '200ml', '350gr', '350 g' etc.\n",
    "\n",
    "### Setting Volume Values\n",
    "For all existing volume entities, we can specify the volumes that you consider correct. <br>\n",
    "For example: in this case the volume of a glass was set as `250 grams`\n",
    "\n",
    "### Handling of mixed cases\n",
    "Quite often there are cases in which are present both quantitative and volume variables. <br>\n",
    "For example: \"`2 tablespoons` of `sugar`\" <br>\n",
    "in this case, proper processing still happens. As a result, we derive a volume of two tablespoons. Because in this case the volume of a tablespoon was set as `18g`, our result will be `36 grams` of sugar\n",
    "\n",
    "## Step by step Algorithm\n",
    "Consider a standard example of text received from a client:<br>\n",
    "`\"2 magere grillburgers, drie eetlepels rijst, 250 gr sperziebonen\"`<br>\n",
    "<br>\n",
    "First step of our algorithm is the translation of the source text into English:<br>\n",
    "`“2 low-fat grill burgers, three tablespoons of rice, 250 g green beans”`<br>\n",
    "<br>\n",
    "Second step: replacing the quantitative variables described by words:<br>\n",
    "`“2 low-fat grill burgers, {3} tablespoons of rice, 250 g green beans”`<br>\n",
    "<br>\n",
    "The third step: search for templates of food, drinks, etc.:<br>\n",
    "`“burger”, “rice”, “beans”`<br>\n",
    "<br>\n",
    "Fourth step: search for  volume values templates:<br>\n",
    "`\"250 g\"`<br>\n",
    "<br>\n",
    "Fifth step: search for  volume entities templates and converting the found entities to the volumes specified for them:<br>\n",
    "`\"tablespoons\" =  \"18 gramme\"`<br>\n",
    "<br>\n",
    "Sixth step: search for quantitative variables:<br>\n",
    "`\"2\"`<br>\n",
    "<br>\n",
    "The last step: the final semantic assembly:<br>\n",
    "2 burger => `2 units of burgers`<br>\n",
    "three tablespoons rice => 3 * 18 rice => `54 gramme of rice`<br>\n",
    "250 g beans => 250 gramme beans => `250 gramme of beans`\n",
    "<br>\n",
    "<br>\n",
    "### After running the next 2 cells, you can see a visualization of the process with several examples.\n",
    "1: Example of highlighting previously described search objects<br>\n",
    "FOOD - food entities<br>\n",
    "QUA - quantitative entities<br>\n",
    "VOLENT - volume entities<br>\n",
    "VOLVAL - volume values<br>\n",
    "<br>\n",
    "2: Algorithm results table<br>\n",
    "<br>\n",
    "3: Example of storage and results presentation to nutritionists taking into account the customer's personification and meal history"
   ]
  },
  {
   "cell_type": "code",
   "execution_count": null,
   "metadata": {},
   "outputs": [],
   "source": [
    "%%javascript\n",
    "IPython.OutputArea.prototype._should_scroll = function(lines) {return false;}"
   ]
  },
  {
   "cell_type": "code",
   "execution_count": null,
   "metadata": {
    "scrolled": true
   },
   "outputs": [],
   "source": [
    "%run main_jupyter.py\n",
    "main()"
   ]
  }
 ],
 "metadata": {
  "kernelspec": {
   "display_name": "Python 3",
   "language": "python",
   "name": "python3"
  },
  "language_info": {
   "codemirror_mode": {
    "name": "ipython",
    "version": 3
   },
   "file_extension": ".py",
   "mimetype": "text/x-python",
   "name": "python",
   "nbconvert_exporter": "python",
   "pygments_lexer": "ipython3",
   "version": "3.6.7"
  }
 },
 "nbformat": 4,
 "nbformat_minor": 2
}
